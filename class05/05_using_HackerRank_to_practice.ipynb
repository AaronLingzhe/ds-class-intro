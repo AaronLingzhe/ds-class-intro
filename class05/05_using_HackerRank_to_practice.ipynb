{
 "cells": [
  {
   "cell_type": "markdown",
   "metadata": {},
   "source": [
    "# Intro to Python3 - Class05\n",
    "\n",
    "### Class agenda:\n",
    "##### 9. Using HackerRank to practice your programming skill\n",
    "\n",
    "\n",
    "## 9. Using HackerRank to practice your programming skill\n",
    "There are lots of online resources you can use to practice data structure and algo. Two popular options are Leet Code and Hacker Rank. Many companies use them for interviews too. So if you practice and get familairized with the interface, you might already set yourself up for success.\n",
    "\n",
    "I'll take HackerRank to examples in this class. Let's look at a problem together and learn about the website.\n",
    "\n",
    "- [if-else problem](https://www.hackerrank.com/challenges/py-if-else/problem)"
   ]
  },
  {
   "cell_type": "code",
   "execution_count": null,
   "metadata": {},
   "outputs": [],
   "source": [
    "#!/bin/python3\n",
    "\n",
    "import math\n",
    "import os\n",
    "import random\n",
    "import re\n",
    "import sys\n",
    "\n",
    "\n",
    "\n",
    "if __name__ == '__main__':\n",
    "    n = int(input().strip())\n",
    "    if n % 2:\n",
    "        print('Weird')\n",
    "    elif n <= 5 or n > 20:\n",
    "        print('Not Weird')\n",
    "    else:\n",
    "        print('Weird')"
   ]
  },
  {
   "cell_type": "markdown",
   "metadata": {},
   "source": [
    "Solving the problem is the first step, then you can challeng yourself to use less and less compexity in your solution. Let's take the following problem as an example\n",
    "\n",
    "- [mini-max-sum](https://www.hackerrank.com/challenges/mini-max-sum/problem)"
   ]
  },
  {
   "cell_type": "code",
   "execution_count": 2,
   "metadata": {},
   "outputs": [
    {
     "name": "stdout",
     "output_type": "stream",
     "text": [
      "1 2 3 4 5\n",
      "(10, 14)\n"
     ]
    }
   ],
   "source": [
    "import math\n",
    "import os\n",
    "import random\n",
    "import re\n",
    "import sys\n",
    "\n",
    "# Complete the miniMaxSum function below.\n",
    "def miniMaxSum(arr):\n",
    "    s_arr = sorted(arr)\n",
    "    return(sum(s_arr[:4]), sum(s_arr[-4:]))\n",
    "\n",
    "if __name__ == '__main__':\n",
    "    arr = list(map(int, input().rstrip().split()))\n",
    "    \n",
    "    print(miniMaxSum(arr))"
   ]
  },
  {
   "cell_type": "code",
   "execution_count": 10,
   "metadata": {},
   "outputs": [],
   "source": [
    "def miniMaxSum_2(arr):\n",
    "    asum = sum(arr)\n",
    "    return(asum - max(arr), asum - min(arr))"
   ]
  },
  {
   "cell_type": "code",
   "execution_count": 16,
   "metadata": {},
   "outputs": [],
   "source": [
    "def miniMaxSum_3(arr):\n",
    "    amin = math.inf\n",
    "    amax = -math.inf\n",
    "    asum = 0\n",
    "    for a in arr:\n",
    "        if a < amin: amin = a\n",
    "        if a > amax: amax = a\n",
    "        asum += a\n",
    "    return(asum - amax, asum - amin)"
   ]
  },
  {
   "cell_type": "code",
   "execution_count": null,
   "metadata": {},
   "outputs": [],
   "source": [
    "from numpy import random\n",
    "a1 = random.randint(1, 1000, 200)\n",
    "a1"
   ]
  },
  {
   "cell_type": "code",
   "execution_count": null,
   "metadata": {},
   "outputs": [],
   "source": [
    "%timeit miniMaxSum(a1)"
   ]
  },
  {
   "cell_type": "code",
   "execution_count": null,
   "metadata": {},
   "outputs": [],
   "source": [
    "%timeit miniMaxSum_2(a1)"
   ]
  },
  {
   "cell_type": "code",
   "execution_count": null,
   "metadata": {},
   "outputs": [],
   "source": [
    "%timeit miniMaxSum_3(a1)"
   ]
  },
  {
   "cell_type": "code",
   "execution_count": 52,
   "metadata": {},
   "outputs": [],
   "source": [
    "import numpy as np\n",
    "import timeit\n",
    "import pandas as pd\n",
    "%matplotlib inline"
   ]
  },
  {
   "cell_type": "code",
   "execution_count": null,
   "metadata": {},
   "outputs": [],
   "source": [
    "performance = {}\n",
    "\n",
    "for n in np.logspace(1, 6, num=20):\n",
    "    sample_size = int(np.ceil(n))\n",
    "    a = np.random.randint(1, 1000, sample_size)\n",
    "    t1 = timeit.timeit('miniMaxSum(a)','from __main__ import miniMaxSum, a', number=1000)\n",
    "    t2 = timeit.timeit('miniMaxSum_2(a)','from __main__ import miniMaxSum_2, a', number=1000)\n",
    "    t3 = timeit.timeit('miniMaxSum_3(a)','from __main__ import miniMaxSum_3, a', number=1000)\n",
    "    performance[sample_size] = (t1, t2, t3)\n",
    "    \n",
    "perf_df = pd.DataFrame.from_dict(performance, orient='index')\n",
    "perf_df.plot(kind='line')"
   ]
  },
  {
   "cell_type": "code",
   "execution_count": null,
   "metadata": {},
   "outputs": [],
   "source": []
  }
 ],
 "metadata": {
  "kernelspec": {
   "display_name": "Python 3",
   "language": "python",
   "name": "python3"
  },
  "language_info": {
   "codemirror_mode": {
    "name": "ipython",
    "version": 3
   },
   "file_extension": ".py",
   "mimetype": "text/x-python",
   "name": "python",
   "nbconvert_exporter": "python",
   "pygments_lexer": "ipython3",
   "version": "3.6.6"
  }
 },
 "nbformat": 4,
 "nbformat_minor": 2
}
