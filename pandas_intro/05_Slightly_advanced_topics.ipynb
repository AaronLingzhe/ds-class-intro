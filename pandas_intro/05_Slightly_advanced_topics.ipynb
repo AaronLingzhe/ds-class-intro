{
 "cells": [
  {
   "cell_type": "markdown",
   "metadata": {},
   "source": [
    "# Pandas intro class 05\n",
    "\n",
    "Objective:\n",
    "- Sampling\n",
    "- Pandas for Timeseries data"
   ]
  },
  {
   "cell_type": "markdown",
   "metadata": {},
   "source": [
    "## Sampling for your data\n",
    "\n",
    "Options:\n",
    "- random sample\n",
    "- bootstrap sample\n",
    "- weighted sample\n",
    "- down/up sample based on specified column"
   ]
  },
  {
   "cell_type": "code",
   "execution_count": 20,
   "metadata": {},
   "outputs": [],
   "source": [
    "import pandas as pd\n",
    "import matplotlib.pyplot as plt\n",
    "import seaborn as sns\n",
    "import numpy as np\n",
    "\n",
    "%matplotlib inline"
   ]
  },
  {
   "cell_type": "code",
   "execution_count": 3,
   "metadata": {},
   "outputs": [
    {
     "data": {
      "text/plain": [
       "(7535, 27)"
      ]
     },
     "execution_count": 3,
     "metadata": {},
     "output_type": "execute_result"
    }
   ],
   "source": [
    "college = pd.read_csv('data/college.csv')\n",
    "college.shape"
   ]
  },
  {
   "cell_type": "markdown",
   "metadata": {},
   "source": [
    "Random sample"
   ]
  },
  {
   "cell_type": "code",
   "execution_count": 12,
   "metadata": {},
   "outputs": [],
   "source": [
    "# random sample\n",
    "sampling_rate = 0.1\n",
    "sample_1 = college.sample(frac=sampling_rate, replace=False, random_state=1)"
   ]
  },
  {
   "cell_type": "markdown",
   "metadata": {},
   "source": [
    "Bootstrap sample"
   ]
  },
  {
   "cell_type": "code",
   "execution_count": 13,
   "metadata": {},
   "outputs": [],
   "source": [
    "# boostrap sample\n",
    "# frac can by >1 here\n",
    "sample_2 = college.sample(frac=sampling_rate, replace=True, random_state=1)"
   ]
  },
  {
   "cell_type": "code",
   "execution_count": 15,
   "metadata": {},
   "outputs": [
    {
     "data": {
      "text/plain": [
       "United Education Institute-Huntington Park Campus    2\n",
       "Strayer University-Allentown Campus                  2\n",
       "Choffin Career  and Technical Center                 2\n",
       "Advance Tech College                                 2\n",
       "Keiser University-Tampa                              2\n",
       "                                                    ..\n",
       "LIM College                                          1\n",
       "Empire Beauty School-Tucson                          1\n",
       "Kaplan University-Lincoln Campus                     1\n",
       "Universal Technical Institute of Texas Inc.          1\n",
       "Avalon School of Cosmetology                         1\n",
       "Name: instnm, Length: 709, dtype: int64"
      ]
     },
     "execution_count": 15,
     "metadata": {},
     "output_type": "execute_result"
    }
   ],
   "source": [
    "sample_2['instnm'].value_counts()"
   ]
  },
  {
   "cell_type": "markdown",
   "metadata": {},
   "source": [
    "Weighted sample"
   ]
  },
  {
   "cell_type": "code",
   "execution_count": 27,
   "metadata": {},
   "outputs": [],
   "source": [
    "# weighted sample\n",
    "# sampling probability is proportional to weight column\n",
    "sample_3 = college.sample(n=1000, weights='ugds', random_state=123)"
   ]
  },
  {
   "cell_type": "code",
   "execution_count": 29,
   "metadata": {},
   "outputs": [
    {
     "data": {
      "image/png": "[encoded data removed]",
      "text/plain": [
       "<Figure size 432x288 with 1 Axes>"
      ]
     },
     "metadata": {
      "needs_background": "light"
     },
     "output_type": "display_data"
    }
   ],
   "source": [
    "# verify data has more large value than original\n",
    "bins = np.linspace(0, max(college['ugds']), 20)\n",
    "plt.hist([sample_1['ugds'], sample_3['ugds'], college['ugds']], bins, \n",
    "         label=['random sample', 'weighted sample', 'original'],density=True)\n",
    "plt.legend(loc='upper right')\n",
    "plt.show()"
   ]
  },
  {
   "cell_type": "markdown",
   "metadata": {},
   "source": [
    "Down-sample unwanted rows"
   ]
  },
  {
   "cell_type": "code",
   "execution_count": 64,
   "metadata": {},
   "outputs": [
    {
     "data": {
      "text/plain": [
       "0.0    7062\n",
       "1.0     102\n",
       "Name: hbcu, dtype: int64"
      ]
     },
     "execution_count": 64,
     "metadata": {},
     "output_type": "execute_result"
    }
   ],
   "source": [
    "college['hbcu'].value_counts()"
   ]
  },
  {
   "cell_type": "code",
   "execution_count": 71,
   "metadata": {},
   "outputs": [
    {
     "data": {
      "text/plain": [
       "((102, 27), (7062, 27))"
      ]
     },
     "execution_count": 71,
     "metadata": {},
     "output_type": "execute_result"
    }
   ],
   "source": [
    "college_hbcu = college[college['hbcu']==1]\n",
    "college_non_hbcu = college[college['hbcu']==0]\n",
    "college_hbcu.shape, college_non_hbcu.shape"
   ]
  },
  {
   "cell_type": "code",
   "execution_count": 72,
   "metadata": {},
   "outputs": [
    {
     "data": {
      "text/plain": [
       "(510, 27)"
      ]
     },
     "execution_count": 72,
     "metadata": {},
     "output_type": "execute_result"
    }
   ],
   "source": [
    "ratio = 5\n",
    "non_hbcu_size = college_hbcu.shape[0] * ratio\n",
    "non_hbcu_sample = college_non_hbcu.sample(n=non_hbcu_size, replace=False, random_state=123)\n",
    "non_hbcu_sample.shape"
   ]
  },
  {
   "cell_type": "code",
   "execution_count": 73,
   "metadata": {},
   "outputs": [
    {
     "data": {
      "text/plain": [
       "0.0    510\n",
       "1.0    102\n",
       "Name: hbcu, dtype: int64"
      ]
     },
     "execution_count": 73,
     "metadata": {},
     "output_type": "execute_result"
    }
   ],
   "source": [
    "downsampled_college = pd.concat([college_hbcu, non_hbcu_sample])\n",
    "downsampled_college['hbcu'].value_counts()"
   ]
  },
  {
   "cell_type": "markdown",
   "metadata": {},
   "source": [
    "Up-sample wanted rows"
   ]
  },
  {
   "cell_type": "code",
   "execution_count": 68,
   "metadata": {},
   "outputs": [
    {
     "data": {
      "text/plain": [
       "(1487, 27)"
      ]
     },
     "execution_count": 68,
     "metadata": {},
     "output_type": "execute_result"
    }
   ],
   "source": [
    "ratio = 5\n",
    "hbcu_size = round(college_non_hbcu.shape[0]/ratio)\n",
    "hbcu_sample = college_hbcu.sample(n=hbcu_size, replace=True, random_state=123)\n",
    "hbcu_sample.shape"
   ]
  },
  {
   "cell_type": "code",
   "execution_count": 74,
   "metadata": {},
   "outputs": [
    {
     "data": {
      "text/plain": [
       "0.0    7062\n",
       "1.0    1487\n",
       "Name: hbcu, dtype: int64"
      ]
     },
     "execution_count": 74,
     "metadata": {},
     "output_type": "execute_result"
    }
   ],
   "source": [
    "upsampled_college = pd.concat([hbcu_sample, college_non_hbcu])\n",
    "upsampled_college['hbcu'].value_counts()"
   ]
  },
  {
   "cell_type": "markdown",
   "metadata": {},
   "source": [
    "You can also use `sklearn.utils.resample` to sample data directly."
   ]
  },
  {
   "cell_type": "markdown",
   "metadata": {},
   "source": [
    "## Time series data analysis\n",
    "\n",
    "Pandas has an intro: https://pandas.pydata.org/pandas-docs/stable/user_guide/timeseries.html\n",
    "\n",
    "We will cover some simple methods:\n",
    "- create a date range\n",
    "- convert string data to a timestamp\n",
    "- work with timestamp data\n",
    "- index and slice your time series data in a data frame\n",
    "- resample your time series for different time period aggregates/summary statistics\n",
    "- compute a rolling statistic/window function such as a rolling average\n",
    "- filling missing\n",
    "- quick differencing"
   ]
  },
  {
   "cell_type": "code",
   "execution_count": 30,
   "metadata": {},
   "outputs": [],
   "source": [
    "from datetime import datetime"
   ]
  },
  {
   "cell_type": "markdown",
   "metadata": {},
   "source": [
    "#### Create a date range"
   ]
  },
  {
   "cell_type": "code",
   "execution_count": 32,
   "metadata": {},
   "outputs": [
    {
     "data": {
      "text/plain": [
       "DatetimeIndex(['2020-05-01 00:00:00', '2020-05-01 01:00:00',\n",
       "               '2020-05-01 02:00:00', '2020-05-01 03:00:00',\n",
       "               '2020-05-01 04:00:00', '2020-05-01 05:00:00',\n",
       "               '2020-05-01 06:00:00', '2020-05-01 07:00:00',\n",
       "               '2020-05-01 08:00:00', '2020-05-01 09:00:00',\n",
       "               ...\n",
       "               '2020-05-11 15:00:00', '2020-05-11 16:00:00',\n",
       "               '2020-05-11 17:00:00', '2020-05-11 18:00:00',\n",
       "               '2020-05-11 19:00:00', '2020-05-11 20:00:00',\n",
       "               '2020-05-11 21:00:00', '2020-05-11 22:00:00',\n",
       "               '2020-05-11 23:00:00', '2020-05-12 00:00:00'],\n",
       "              dtype='datetime64[ns]', length=265, freq='H')"
      ]
     },
     "execution_count": 32,
     "metadata": {},
     "output_type": "execute_result"
    }
   ],
   "source": [
    "date_rng = pd.date_range(start='5/1/2020', end='5/12/2020', freq='H')\n",
    "date_rng"
   ]
  },
  {
   "cell_type": "code",
   "execution_count": 33,
   "metadata": {},
   "outputs": [
    {
     "data": {
      "text/html": [
       "<div>\n",
       "<style scoped>\n",
       "    .dataframe tbody tr th:only-of-type {\n",
       "        vertical-align: middle;\n",
       "    }\n",
       "\n",
       "    .dataframe tbody tr th {\n",
       "        vertical-align: top;\n",
       "    }\n",
       "\n",
       "    .dataframe thead th {\n",
       "        text-align: right;\n",
       "    }\n",
       "</style>\n",
       "<table border=\"1\" class=\"dataframe\">\n",
       "  <thead>\n",
       "    <tr style=\"text-align: right;\">\n",
       "      <th></th>\n",
       "      <th>date</th>\n",
       "      <th>data</th>\n",
       "    </tr>\n",
       "  </thead>\n",
       "  <tbody>\n",
       "    <tr>\n",
       "      <th>0</th>\n",
       "      <td>2020-05-01 00:00:00</td>\n",
       "      <td>16</td>\n",
       "    </tr>\n",
       "    <tr>\n",
       "      <th>1</th>\n",
       "      <td>2020-05-01 01:00:00</td>\n",
       "      <td>16</td>\n",
       "    </tr>\n",
       "    <tr>\n",
       "      <th>2</th>\n",
       "      <td>2020-05-01 02:00:00</td>\n",
       "      <td>34</td>\n",
       "    </tr>\n",
       "    <tr>\n",
       "      <th>3</th>\n",
       "      <td>2020-05-01 03:00:00</td>\n",
       "      <td>76</td>\n",
       "    </tr>\n",
       "    <tr>\n",
       "      <th>4</th>\n",
       "      <td>2020-05-01 04:00:00</td>\n",
       "      <td>53</td>\n",
       "    </tr>\n",
       "  </tbody>\n",
       "</table>\n",
       "</div>"
      ],
      "text/plain": [
       "                 date  data\n",
       "0 2020-05-01 00:00:00    16\n",
       "1 2020-05-01 01:00:00    16\n",
       "2 2020-05-01 02:00:00    34\n",
       "3 2020-05-01 03:00:00    76\n",
       "4 2020-05-01 04:00:00    53"
      ]
     },
     "execution_count": 33,
     "metadata": {},
     "output_type": "execute_result"
    }
   ],
   "source": [
    "# create df\n",
    "df = pd.DataFrame(date_rng, columns=['date'])\n",
    "df['data'] = np.random.randint(0, 100, size=(len(date_rng)))\n",
    "df.head()"
   ]
  },
  {
   "cell_type": "markdown",
   "metadata": {},
   "source": [
    "#### Convert the data frame index to a datetime index"
   ]
  },
  {
   "cell_type": "code",
   "execution_count": 34,
   "metadata": {},
   "outputs": [
    {
     "data": {
      "text/html": [
       "<div>\n",
       "<style scoped>\n",
       "    .dataframe tbody tr th:only-of-type {\n",
       "        vertical-align: middle;\n",
       "    }\n",
       "\n",
       "    .dataframe tbody tr th {\n",
       "        vertical-align: top;\n",
       "    }\n",
       "\n",
       "    .dataframe thead th {\n",
       "        text-align: right;\n",
       "    }\n",
       "</style>\n",
       "<table border=\"1\" class=\"dataframe\">\n",
       "  <thead>\n",
       "    <tr style=\"text-align: right;\">\n",
       "      <th></th>\n",
       "      <th>data</th>\n",
       "    </tr>\n",
       "    <tr>\n",
       "      <th>datetime</th>\n",
       "      <th></th>\n",
       "    </tr>\n",
       "  </thead>\n",
       "  <tbody>\n",
       "    <tr>\n",
       "      <th>2020-05-01 00:00:00</th>\n",
       "      <td>16</td>\n",
       "    </tr>\n",
       "    <tr>\n",
       "      <th>2020-05-01 01:00:00</th>\n",
       "      <td>16</td>\n",
       "    </tr>\n",
       "    <tr>\n",
       "      <th>2020-05-01 02:00:00</th>\n",
       "      <td>34</td>\n",
       "    </tr>\n",
       "    <tr>\n",
       "      <th>2020-05-01 03:00:00</th>\n",
       "      <td>76</td>\n",
       "    </tr>\n",
       "    <tr>\n",
       "      <th>2020-05-01 04:00:00</th>\n",
       "      <td>53</td>\n",
       "    </tr>\n",
       "  </tbody>\n",
       "</table>\n",
       "</div>"
      ],
      "text/plain": [
       "                     data\n",
       "datetime                 \n",
       "2020-05-01 00:00:00    16\n",
       "2020-05-01 01:00:00    16\n",
       "2020-05-01 02:00:00    34\n",
       "2020-05-01 03:00:00    76\n",
       "2020-05-01 04:00:00    53"
      ]
     },
     "execution_count": 34,
     "metadata": {},
     "output_type": "execute_result"
    }
   ],
   "source": [
    "# convert index\n",
    "df['datetime'] = pd.to_datetime(df['date'])\n",
    "df = df.set_index('datetime')\n",
    "df.drop(['date'], axis=1, inplace=True)\n",
    "df.head()"
   ]
  },
  {
   "cell_type": "markdown",
   "metadata": {},
   "source": [
    "#### Convert string data to a timestamp"
   ]
  },
  {
   "cell_type": "code",
   "execution_count": 35,
   "metadata": {},
   "outputs": [
    {
     "data": {
      "text/plain": [
       "str"
      ]
     },
     "execution_count": 35,
     "metadata": {},
     "output_type": "execute_result"
    }
   ],
   "source": [
    "# generate fake strings to parse\n",
    "string_date_rng = [str(x) for x in date_rng]\n",
    "type(string_date_rng[0])"
   ]
  },
  {
   "cell_type": "code",
   "execution_count": 36,
   "metadata": {},
   "outputs": [
    {
     "data": {
      "text/plain": [
       "DatetimeIndex(['2020-05-01 00:00:00', '2020-05-01 01:00:00',\n",
       "               '2020-05-01 02:00:00', '2020-05-01 03:00:00',\n",
       "               '2020-05-01 04:00:00', '2020-05-01 05:00:00',\n",
       "               '2020-05-01 06:00:00', '2020-05-01 07:00:00',\n",
       "               '2020-05-01 08:00:00', '2020-05-01 09:00:00',\n",
       "               ...\n",
       "               '2020-05-11 15:00:00', '2020-05-11 16:00:00',\n",
       "               '2020-05-11 17:00:00', '2020-05-11 18:00:00',\n",
       "               '2020-05-11 19:00:00', '2020-05-11 20:00:00',\n",
       "               '2020-05-11 21:00:00', '2020-05-11 22:00:00',\n",
       "               '2020-05-11 23:00:00', '2020-05-12 00:00:00'],\n",
       "              dtype='datetime64[ns]', length=265, freq=None)"
      ]
     },
     "execution_count": 36,
     "metadata": {},
     "output_type": "execute_result"
    }
   ],
   "source": [
    "timestamp_date_rng = pd.to_datetime(string_date_rng, infer_datetime_format=True)\n",
    "timestamp_date_rng"
   ]
  },
  {
   "cell_type": "code",
   "execution_count": 37,
   "metadata": {},
   "outputs": [
    {
     "data": {
      "text/plain": [
       "[datetime.datetime(2018, 6, 1, 0, 0),\n",
       " datetime.datetime(2018, 6, 2, 0, 0),\n",
       " datetime.datetime(2018, 6, 3, 0, 0)]"
      ]
     },
     "execution_count": 37,
     "metadata": {},
     "output_type": "execute_result"
    }
   ],
   "source": [
    "# other formats work too as long as you specify\n",
    "string_date_rng_2 = ['June-01-2018', 'June-02-2018', 'June-03-2018']\n",
    "timestamp_date_rng_2 = [datetime.strptime(x,'%B-%d-%Y') for x in string_date_rng_2]\n",
    "timestamp_date_rng_2"
   ]
  },
  {
   "cell_type": "markdown",
   "metadata": {},
   "source": [
    "#### Indexing and slicing"
   ]
  },
  {
   "cell_type": "code",
   "execution_count": 38,
   "metadata": {},
   "outputs": [
    {
     "data": {
      "text/html": [
       "<div>\n",
       "<style scoped>\n",
       "    .dataframe tbody tr th:only-of-type {\n",
       "        vertical-align: middle;\n",
       "    }\n",
       "\n",
       "    .dataframe tbody tr th {\n",
       "        vertical-align: top;\n",
       "    }\n",
       "\n",
       "    .dataframe thead th {\n",
       "        text-align: right;\n",
       "    }\n",
       "</style>\n",
       "<table border=\"1\" class=\"dataframe\">\n",
       "  <thead>\n",
       "    <tr style=\"text-align: right;\">\n",
       "      <th></th>\n",
       "      <th>data</th>\n",
       "    </tr>\n",
       "    <tr>\n",
       "      <th>datetime</th>\n",
       "      <th></th>\n",
       "    </tr>\n",
       "  </thead>\n",
       "  <tbody>\n",
       "    <tr>\n",
       "      <th>2020-05-02 00:00:00</th>\n",
       "      <td>74</td>\n",
       "    </tr>\n",
       "    <tr>\n",
       "      <th>2020-05-02 01:00:00</th>\n",
       "      <td>73</td>\n",
       "    </tr>\n",
       "    <tr>\n",
       "      <th>2020-05-02 02:00:00</th>\n",
       "      <td>36</td>\n",
       "    </tr>\n",
       "    <tr>\n",
       "      <th>2020-05-02 03:00:00</th>\n",
       "      <td>70</td>\n",
       "    </tr>\n",
       "    <tr>\n",
       "      <th>2020-05-02 04:00:00</th>\n",
       "      <td>81</td>\n",
       "    </tr>\n",
       "    <tr>\n",
       "      <th>2020-05-02 05:00:00</th>\n",
       "      <td>11</td>\n",
       "    </tr>\n",
       "    <tr>\n",
       "      <th>2020-05-02 06:00:00</th>\n",
       "      <td>37</td>\n",
       "    </tr>\n",
       "    <tr>\n",
       "      <th>2020-05-02 07:00:00</th>\n",
       "      <td>56</td>\n",
       "    </tr>\n",
       "    <tr>\n",
       "      <th>2020-05-02 08:00:00</th>\n",
       "      <td>47</td>\n",
       "    </tr>\n",
       "    <tr>\n",
       "      <th>2020-05-02 09:00:00</th>\n",
       "      <td>7</td>\n",
       "    </tr>\n",
       "    <tr>\n",
       "      <th>2020-05-02 10:00:00</th>\n",
       "      <td>14</td>\n",
       "    </tr>\n",
       "    <tr>\n",
       "      <th>2020-05-02 11:00:00</th>\n",
       "      <td>32</td>\n",
       "    </tr>\n",
       "    <tr>\n",
       "      <th>2020-05-02 12:00:00</th>\n",
       "      <td>39</td>\n",
       "    </tr>\n",
       "    <tr>\n",
       "      <th>2020-05-02 13:00:00</th>\n",
       "      <td>28</td>\n",
       "    </tr>\n",
       "    <tr>\n",
       "      <th>2020-05-02 14:00:00</th>\n",
       "      <td>5</td>\n",
       "    </tr>\n",
       "    <tr>\n",
       "      <th>2020-05-02 15:00:00</th>\n",
       "      <td>62</td>\n",
       "    </tr>\n",
       "    <tr>\n",
       "      <th>2020-05-02 16:00:00</th>\n",
       "      <td>11</td>\n",
       "    </tr>\n",
       "    <tr>\n",
       "      <th>2020-05-02 17:00:00</th>\n",
       "      <td>54</td>\n",
       "    </tr>\n",
       "    <tr>\n",
       "      <th>2020-05-02 18:00:00</th>\n",
       "      <td>82</td>\n",
       "    </tr>\n",
       "    <tr>\n",
       "      <th>2020-05-02 19:00:00</th>\n",
       "      <td>43</td>\n",
       "    </tr>\n",
       "    <tr>\n",
       "      <th>2020-05-02 20:00:00</th>\n",
       "      <td>69</td>\n",
       "    </tr>\n",
       "    <tr>\n",
       "      <th>2020-05-02 21:00:00</th>\n",
       "      <td>13</td>\n",
       "    </tr>\n",
       "    <tr>\n",
       "      <th>2020-05-02 22:00:00</th>\n",
       "      <td>45</td>\n",
       "    </tr>\n",
       "    <tr>\n",
       "      <th>2020-05-02 23:00:00</th>\n",
       "      <td>1</td>\n",
       "    </tr>\n",
       "  </tbody>\n",
       "</table>\n",
       "</div>"
      ],
      "text/plain": [
       "                     data\n",
       "datetime                 \n",
       "2020-05-02 00:00:00    74\n",
       "2020-05-02 01:00:00    73\n",
       "2020-05-02 02:00:00    36\n",
       "2020-05-02 03:00:00    70\n",
       "2020-05-02 04:00:00    81\n",
       "2020-05-02 05:00:00    11\n",
       "2020-05-02 06:00:00    37\n",
       "2020-05-02 07:00:00    56\n",
       "2020-05-02 08:00:00    47\n",
       "2020-05-02 09:00:00     7\n",
       "2020-05-02 10:00:00    14\n",
       "2020-05-02 11:00:00    32\n",
       "2020-05-02 12:00:00    39\n",
       "2020-05-02 13:00:00    28\n",
       "2020-05-02 14:00:00     5\n",
       "2020-05-02 15:00:00    62\n",
       "2020-05-02 16:00:00    11\n",
       "2020-05-02 17:00:00    54\n",
       "2020-05-02 18:00:00    82\n",
       "2020-05-02 19:00:00    43\n",
       "2020-05-02 20:00:00    69\n",
       "2020-05-02 21:00:00    13\n",
       "2020-05-02 22:00:00    45\n",
       "2020-05-02 23:00:00     1"
      ]
     },
     "execution_count": 38,
     "metadata": {},
     "output_type": "execute_result"
    }
   ],
   "source": [
    "# index by day\n",
    "df[df.index.day == 2]"
   ]
  },
  {
   "cell_type": "code",
   "execution_count": 39,
   "metadata": {},
   "outputs": [
    {
     "data": {
      "text/html": [
       "<div>\n",
       "<style scoped>\n",
       "    .dataframe tbody tr th:only-of-type {\n",
       "        vertical-align: middle;\n",
       "    }\n",
       "\n",
       "    .dataframe tbody tr th {\n",
       "        vertical-align: top;\n",
       "    }\n",
       "\n",
       "    .dataframe thead th {\n",
       "        text-align: right;\n",
       "    }\n",
       "</style>\n",
       "<table border=\"1\" class=\"dataframe\">\n",
       "  <thead>\n",
       "    <tr style=\"text-align: right;\">\n",
       "      <th></th>\n",
       "      <th>data</th>\n",
       "    </tr>\n",
       "    <tr>\n",
       "      <th>datetime</th>\n",
       "      <th></th>\n",
       "    </tr>\n",
       "  </thead>\n",
       "  <tbody>\n",
       "    <tr>\n",
       "      <th>2020-05-02 00:00:00</th>\n",
       "      <td>74</td>\n",
       "    </tr>\n",
       "    <tr>\n",
       "      <th>2020-05-02 01:00:00</th>\n",
       "      <td>73</td>\n",
       "    </tr>\n",
       "    <tr>\n",
       "      <th>2020-05-02 02:00:00</th>\n",
       "      <td>36</td>\n",
       "    </tr>\n",
       "    <tr>\n",
       "      <th>2020-05-02 03:00:00</th>\n",
       "      <td>70</td>\n",
       "    </tr>\n",
       "    <tr>\n",
       "      <th>2020-05-02 04:00:00</th>\n",
       "      <td>81</td>\n",
       "    </tr>\n",
       "    <tr>\n",
       "      <th>2020-05-02 05:00:00</th>\n",
       "      <td>11</td>\n",
       "    </tr>\n",
       "    <tr>\n",
       "      <th>2020-05-02 06:00:00</th>\n",
       "      <td>37</td>\n",
       "    </tr>\n",
       "    <tr>\n",
       "      <th>2020-05-02 07:00:00</th>\n",
       "      <td>56</td>\n",
       "    </tr>\n",
       "    <tr>\n",
       "      <th>2020-05-02 08:00:00</th>\n",
       "      <td>47</td>\n",
       "    </tr>\n",
       "    <tr>\n",
       "      <th>2020-05-02 09:00:00</th>\n",
       "      <td>7</td>\n",
       "    </tr>\n",
       "    <tr>\n",
       "      <th>2020-05-02 10:00:00</th>\n",
       "      <td>14</td>\n",
       "    </tr>\n",
       "    <tr>\n",
       "      <th>2020-05-02 11:00:00</th>\n",
       "      <td>32</td>\n",
       "    </tr>\n",
       "    <tr>\n",
       "      <th>2020-05-02 12:00:00</th>\n",
       "      <td>39</td>\n",
       "    </tr>\n",
       "    <tr>\n",
       "      <th>2020-05-02 13:00:00</th>\n",
       "      <td>28</td>\n",
       "    </tr>\n",
       "    <tr>\n",
       "      <th>2020-05-02 14:00:00</th>\n",
       "      <td>5</td>\n",
       "    </tr>\n",
       "    <tr>\n",
       "      <th>2020-05-02 15:00:00</th>\n",
       "      <td>62</td>\n",
       "    </tr>\n",
       "    <tr>\n",
       "      <th>2020-05-02 16:00:00</th>\n",
       "      <td>11</td>\n",
       "    </tr>\n",
       "    <tr>\n",
       "      <th>2020-05-02 17:00:00</th>\n",
       "      <td>54</td>\n",
       "    </tr>\n",
       "    <tr>\n",
       "      <th>2020-05-02 18:00:00</th>\n",
       "      <td>82</td>\n",
       "    </tr>\n",
       "    <tr>\n",
       "      <th>2020-05-02 19:00:00</th>\n",
       "      <td>43</td>\n",
       "    </tr>\n",
       "    <tr>\n",
       "      <th>2020-05-02 20:00:00</th>\n",
       "      <td>69</td>\n",
       "    </tr>\n",
       "    <tr>\n",
       "      <th>2020-05-02 21:00:00</th>\n",
       "      <td>13</td>\n",
       "    </tr>\n",
       "    <tr>\n",
       "      <th>2020-05-02 22:00:00</th>\n",
       "      <td>45</td>\n",
       "    </tr>\n",
       "    <tr>\n",
       "      <th>2020-05-02 23:00:00</th>\n",
       "      <td>1</td>\n",
       "    </tr>\n",
       "  </tbody>\n",
       "</table>\n",
       "</div>"
      ],
      "text/plain": [
       "                     data\n",
       "datetime                 \n",
       "2020-05-02 00:00:00    74\n",
       "2020-05-02 01:00:00    73\n",
       "2020-05-02 02:00:00    36\n",
       "2020-05-02 03:00:00    70\n",
       "2020-05-02 04:00:00    81\n",
       "2020-05-02 05:00:00    11\n",
       "2020-05-02 06:00:00    37\n",
       "2020-05-02 07:00:00    56\n",
       "2020-05-02 08:00:00    47\n",
       "2020-05-02 09:00:00     7\n",
       "2020-05-02 10:00:00    14\n",
       "2020-05-02 11:00:00    32\n",
       "2020-05-02 12:00:00    39\n",
       "2020-05-02 13:00:00    28\n",
       "2020-05-02 14:00:00     5\n",
       "2020-05-02 15:00:00    62\n",
       "2020-05-02 16:00:00    11\n",
       "2020-05-02 17:00:00    54\n",
       "2020-05-02 18:00:00    82\n",
       "2020-05-02 19:00:00    43\n",
       "2020-05-02 20:00:00    69\n",
       "2020-05-02 21:00:00    13\n",
       "2020-05-02 22:00:00    45\n",
       "2020-05-02 23:00:00     1"
      ]
     },
     "execution_count": 39,
     "metadata": {},
     "output_type": "execute_result"
    }
   ],
   "source": [
    "# index by date\n",
    "df['2020-05-02']"
   ]
  },
  {
   "cell_type": "code",
   "execution_count": 42,
   "metadata": {},
   "outputs": [
    {
     "data": {
      "text/html": [
       "<div>\n",
       "<style scoped>\n",
       "    .dataframe tbody tr th:only-of-type {\n",
       "        vertical-align: middle;\n",
       "    }\n",
       "\n",
       "    .dataframe tbody tr th {\n",
       "        vertical-align: top;\n",
       "    }\n",
       "\n",
       "    .dataframe thead th {\n",
       "        text-align: right;\n",
       "    }\n",
       "</style>\n",
       "<table border=\"1\" class=\"dataframe\">\n",
       "  <thead>\n",
       "    <tr style=\"text-align: right;\">\n",
       "      <th></th>\n",
       "      <th>data</th>\n",
       "    </tr>\n",
       "    <tr>\n",
       "      <th>datetime</th>\n",
       "      <th></th>\n",
       "    </tr>\n",
       "  </thead>\n",
       "  <tbody>\n",
       "    <tr>\n",
       "      <th>2020-05-04 12:00:00</th>\n",
       "      <td>85</td>\n",
       "    </tr>\n",
       "    <tr>\n",
       "      <th>2020-05-04 13:00:00</th>\n",
       "      <td>59</td>\n",
       "    </tr>\n",
       "    <tr>\n",
       "      <th>2020-05-04 14:00:00</th>\n",
       "      <td>45</td>\n",
       "    </tr>\n",
       "    <tr>\n",
       "      <th>2020-05-04 15:00:00</th>\n",
       "      <td>24</td>\n",
       "    </tr>\n",
       "    <tr>\n",
       "      <th>2020-05-04 16:00:00</th>\n",
       "      <td>35</td>\n",
       "    </tr>\n",
       "    <tr>\n",
       "      <th>2020-05-04 17:00:00</th>\n",
       "      <td>45</td>\n",
       "    </tr>\n",
       "    <tr>\n",
       "      <th>2020-05-04 18:00:00</th>\n",
       "      <td>30</td>\n",
       "    </tr>\n",
       "    <tr>\n",
       "      <th>2020-05-04 19:00:00</th>\n",
       "      <td>28</td>\n",
       "    </tr>\n",
       "    <tr>\n",
       "      <th>2020-05-04 20:00:00</th>\n",
       "      <td>94</td>\n",
       "    </tr>\n",
       "    <tr>\n",
       "      <th>2020-05-04 21:00:00</th>\n",
       "      <td>5</td>\n",
       "    </tr>\n",
       "    <tr>\n",
       "      <th>2020-05-04 22:00:00</th>\n",
       "      <td>2</td>\n",
       "    </tr>\n",
       "    <tr>\n",
       "      <th>2020-05-04 23:00:00</th>\n",
       "      <td>69</td>\n",
       "    </tr>\n",
       "    <tr>\n",
       "      <th>2020-05-05 00:00:00</th>\n",
       "      <td>37</td>\n",
       "    </tr>\n",
       "  </tbody>\n",
       "</table>\n",
       "</div>"
      ],
      "text/plain": [
       "                     data\n",
       "datetime                 \n",
       "2020-05-04 12:00:00    85\n",
       "2020-05-04 13:00:00    59\n",
       "2020-05-04 14:00:00    45\n",
       "2020-05-04 15:00:00    24\n",
       "2020-05-04 16:00:00    35\n",
       "2020-05-04 17:00:00    45\n",
       "2020-05-04 18:00:00    30\n",
       "2020-05-04 19:00:00    28\n",
       "2020-05-04 20:00:00    94\n",
       "2020-05-04 21:00:00     5\n",
       "2020-05-04 22:00:00     2\n",
       "2020-05-04 23:00:00    69\n",
       "2020-05-05 00:00:00    37"
      ]
     },
     "execution_count": 42,
     "metadata": {},
     "output_type": "execute_result"
    }
   ],
   "source": [
    "# slicing using time\n",
    "df['2020-05-04 12:00:00':'2020-05-05 00:00:00']"
   ]
  },
  {
   "cell_type": "markdown",
   "metadata": {},
   "source": [
    "#### Resample the data at a different frequency\n",
    "Note: differnet concept as the sampling we discussed before"
   ]
  },
  {
   "cell_type": "code",
   "execution_count": 43,
   "metadata": {},
   "outputs": [
    {
     "data": {
      "text/html": [
       "<div>\n",
       "<style scoped>\n",
       "    .dataframe tbody tr th:only-of-type {\n",
       "        vertical-align: middle;\n",
       "    }\n",
       "\n",
       "    .dataframe tbody tr th {\n",
       "        vertical-align: top;\n",
       "    }\n",
       "\n",
       "    .dataframe thead th {\n",
       "        text-align: right;\n",
       "    }\n",
       "</style>\n",
       "<table border=\"1\" class=\"dataframe\">\n",
       "  <thead>\n",
       "    <tr style=\"text-align: right;\">\n",
       "      <th></th>\n",
       "      <th>data</th>\n",
       "    </tr>\n",
       "    <tr>\n",
       "      <th>datetime</th>\n",
       "      <th></th>\n",
       "    </tr>\n",
       "  </thead>\n",
       "  <tbody>\n",
       "    <tr>\n",
       "      <th>2020-05-01</th>\n",
       "      <td>49.958333</td>\n",
       "    </tr>\n",
       "    <tr>\n",
       "      <th>2020-05-02</th>\n",
       "      <td>41.250000</td>\n",
       "    </tr>\n",
       "    <tr>\n",
       "      <th>2020-05-03</th>\n",
       "      <td>42.041667</td>\n",
       "    </tr>\n",
       "    <tr>\n",
       "      <th>2020-05-04</th>\n",
       "      <td>43.833333</td>\n",
       "    </tr>\n",
       "    <tr>\n",
       "      <th>2020-05-05</th>\n",
       "      <td>54.083333</td>\n",
       "    </tr>\n",
       "    <tr>\n",
       "      <th>2020-05-06</th>\n",
       "      <td>54.416667</td>\n",
       "    </tr>\n",
       "    <tr>\n",
       "      <th>2020-05-07</th>\n",
       "      <td>49.875000</td>\n",
       "    </tr>\n",
       "    <tr>\n",
       "      <th>2020-05-08</th>\n",
       "      <td>56.083333</td>\n",
       "    </tr>\n",
       "    <tr>\n",
       "      <th>2020-05-09</th>\n",
       "      <td>44.166667</td>\n",
       "    </tr>\n",
       "    <tr>\n",
       "      <th>2020-05-10</th>\n",
       "      <td>58.416667</td>\n",
       "    </tr>\n",
       "    <tr>\n",
       "      <th>2020-05-11</th>\n",
       "      <td>50.250000</td>\n",
       "    </tr>\n",
       "    <tr>\n",
       "      <th>2020-05-12</th>\n",
       "      <td>83.000000</td>\n",
       "    </tr>\n",
       "  </tbody>\n",
       "</table>\n",
       "</div>"
      ],
      "text/plain": [
       "                 data\n",
       "datetime             \n",
       "2020-05-01  49.958333\n",
       "2020-05-02  41.250000\n",
       "2020-05-03  42.041667\n",
       "2020-05-04  43.833333\n",
       "2020-05-05  54.083333\n",
       "2020-05-06  54.416667\n",
       "2020-05-07  49.875000\n",
       "2020-05-08  56.083333\n",
       "2020-05-09  44.166667\n",
       "2020-05-10  58.416667\n",
       "2020-05-11  50.250000\n",
       "2020-05-12  83.000000"
      ]
     },
     "execution_count": 43,
     "metadata": {},
     "output_type": "execute_result"
    }
   ],
   "source": [
    "df.resample('D').mean()"
   ]
  },
  {
   "cell_type": "code",
   "execution_count": 52,
   "metadata": {},
   "outputs": [
    {
     "name": "stdout",
     "output_type": "stream",
     "text": [
      "Group:  2020-05-03 00:00:00\n",
      "---------------------------\n",
      "                     data  rolling_avg  first_diff  second_diff  \\\n",
      "datetime                                                          \n",
      "2020-05-01 00:00:00    16          NaN         NaN          NaN   \n",
      "2020-05-01 01:00:00    16          NaN         0.0          NaN   \n",
      "2020-05-01 02:00:00    34    22.000000        18.0         18.0   \n",
      "2020-05-01 03:00:00    76    42.000000        42.0         24.0   \n",
      "2020-05-01 04:00:00    53    54.333333       -23.0        -65.0   \n",
      "...                   ...          ...         ...          ...   \n",
      "2020-05-03 19:00:00    46    43.000000        44.0        123.0   \n",
      "2020-05-03 20:00:00    27    25.000000       -19.0        -63.0   \n",
      "2020-05-03 21:00:00    80    51.000000        53.0         72.0   \n",
      "2020-05-03 22:00:00    83    63.333333         3.0        -50.0   \n",
      "2020-05-03 23:00:00     6    56.333333       -77.0        -80.0   \n",
      "\n",
      "                     bf_rolling_avg  \n",
      "datetime                             \n",
      "2020-05-01 00:00:00       22.000000  \n",
      "2020-05-01 01:00:00       22.000000  \n",
      "2020-05-01 02:00:00       22.000000  \n",
      "2020-05-01 03:00:00       42.000000  \n",
      "2020-05-01 04:00:00       54.333333  \n",
      "...                             ...  \n",
      "2020-05-03 19:00:00       43.000000  \n",
      "2020-05-03 20:00:00       25.000000  \n",
      "2020-05-03 21:00:00       51.000000  \n",
      "2020-05-03 22:00:00       63.333333  \n",
      "2020-05-03 23:00:00       56.333333  \n",
      "\n",
      "[72 rows x 5 columns]\n",
      "\n",
      "Group:  2020-05-17 00:00:00\n",
      "---------------------------\n",
      "                     data  rolling_avg  first_diff  second_diff  \\\n",
      "datetime                                                          \n",
      "2020-05-04 00:00:00    16    35.000000        10.0         87.0   \n",
      "2020-05-04 01:00:00    57    26.333333        41.0         31.0   \n",
      "2020-05-04 02:00:00    77    50.000000        20.0        -21.0   \n",
      "2020-05-04 03:00:00    31    55.000000       -46.0        -66.0   \n",
      "2020-05-04 04:00:00    46    51.333333        15.0         61.0   \n",
      "...                   ...          ...         ...          ...   \n",
      "2020-05-11 20:00:00     2    33.000000       -51.0        -60.0   \n",
      "2020-05-11 21:00:00    15    23.333333        13.0         64.0   \n",
      "2020-05-11 22:00:00    86    34.333333        71.0         58.0   \n",
      "2020-05-11 23:00:00    21    40.666667       -65.0       -136.0   \n",
      "2020-05-12 00:00:00    83    63.333333        62.0        127.0   \n",
      "\n",
      "                     bf_rolling_avg  \n",
      "datetime                             \n",
      "2020-05-04 00:00:00       35.000000  \n",
      "2020-05-04 01:00:00       26.333333  \n",
      "2020-05-04 02:00:00       50.000000  \n",
      "2020-05-04 03:00:00       55.000000  \n",
      "2020-05-04 04:00:00       51.333333  \n",
      "...                             ...  \n",
      "2020-05-11 20:00:00       33.000000  \n",
      "2020-05-11 21:00:00       23.333333  \n",
      "2020-05-11 22:00:00       34.333333  \n",
      "2020-05-11 23:00:00       40.666667  \n",
      "2020-05-12 00:00:00       63.333333  \n",
      "\n",
      "[193 rows x 5 columns]\n",
      "\n"
     ]
    }
   ],
   "source": [
    "# you can iterate through resampled data\n",
    "resampled = df.resample('2W')\n",
    "\n",
    "for name, group in resampled:\n",
    "    print(\"Group: \", name)\n",
    "    print(\"-\" * 27)\n",
    "    print(group, end=\"\\n\\n\")"
   ]
  },
  {
   "cell_type": "markdown",
   "metadata": {},
   "source": [
    "#### Window function (e.g. rolling average)\n",
    "Specify `win_type` for advanced aggregation: https://pandas.pydata.org/pandas-docs/stable/reference/api/pandas.Series.rolling.html#pandas.Series.rolling"
   ]
  },
  {
   "cell_type": "code",
   "execution_count": 45,
   "metadata": {},
   "outputs": [
    {
     "data": {
      "text/html": [
       "<div>\n",
       "<style scoped>\n",
       "    .dataframe tbody tr th:only-of-type {\n",
       "        vertical-align: middle;\n",
       "    }\n",
       "\n",
       "    .dataframe tbody tr th {\n",
       "        vertical-align: top;\n",
       "    }\n",
       "\n",
       "    .dataframe thead th {\n",
       "        text-align: right;\n",
       "    }\n",
       "</style>\n",
       "<table border=\"1\" class=\"dataframe\">\n",
       "  <thead>\n",
       "    <tr style=\"text-align: right;\">\n",
       "      <th></th>\n",
       "      <th>data</th>\n",
       "      <th>rolling_avg</th>\n",
       "    </tr>\n",
       "    <tr>\n",
       "      <th>datetime</th>\n",
       "      <th></th>\n",
       "      <th></th>\n",
       "    </tr>\n",
       "  </thead>\n",
       "  <tbody>\n",
       "    <tr>\n",
       "      <th>2020-05-01 00:00:00</th>\n",
       "      <td>16</td>\n",
       "      <td>NaN</td>\n",
       "    </tr>\n",
       "    <tr>\n",
       "      <th>2020-05-01 01:00:00</th>\n",
       "      <td>16</td>\n",
       "      <td>NaN</td>\n",
       "    </tr>\n",
       "    <tr>\n",
       "      <th>2020-05-01 02:00:00</th>\n",
       "      <td>34</td>\n",
       "      <td>22.000000</td>\n",
       "    </tr>\n",
       "    <tr>\n",
       "      <th>2020-05-01 03:00:00</th>\n",
       "      <td>76</td>\n",
       "      <td>42.000000</td>\n",
       "    </tr>\n",
       "    <tr>\n",
       "      <th>2020-05-01 04:00:00</th>\n",
       "      <td>53</td>\n",
       "      <td>54.333333</td>\n",
       "    </tr>\n",
       "  </tbody>\n",
       "</table>\n",
       "</div>"
      ],
      "text/plain": [
       "                     data  rolling_avg\n",
       "datetime                              \n",
       "2020-05-01 00:00:00    16          NaN\n",
       "2020-05-01 01:00:00    16          NaN\n",
       "2020-05-01 02:00:00    34    22.000000\n",
       "2020-05-01 03:00:00    76    42.000000\n",
       "2020-05-01 04:00:00    53    54.333333"
      ]
     },
     "execution_count": 45,
     "metadata": {},
     "output_type": "execute_result"
    }
   ],
   "source": [
    "df['rolling_avg'] = df.rolling(3).mean()\n",
    "df.head()"
   ]
  },
  {
   "cell_type": "code",
   "execution_count": 60,
   "metadata": {},
   "outputs": [
    {
     "data": {
      "text/plain": [
       "datetime\n",
       "2020-05-01 00:00:00      16.0\n",
       "2020-05-01 01:00:00      32.0\n",
       "2020-05-01 02:00:00      66.0\n",
       "2020-05-01 03:00:00     142.0\n",
       "2020-05-01 04:00:00     195.0\n",
       "                        ...  \n",
       "2020-05-11 20:00:00    2576.0\n",
       "2020-05-11 21:00:00    2529.0\n",
       "2020-05-11 22:00:00    2587.0\n",
       "2020-05-11 23:00:00    2608.0\n",
       "2020-05-12 00:00:00    2646.0\n",
       "Name: data, Length: 265, dtype: float64"
      ]
     },
     "execution_count": 60,
     "metadata": {},
     "output_type": "execute_result"
    }
   ],
   "source": [
    "df['data'].rolling('2d').sum()"
   ]
  },
  {
   "cell_type": "markdown",
   "metadata": {},
   "source": [
    "#### Quick difference"
   ]
  },
  {
   "cell_type": "code",
   "execution_count": 48,
   "metadata": {},
   "outputs": [
    {
     "data": {
      "text/html": [
       "<div>\n",
       "<style scoped>\n",
       "    .dataframe tbody tr th:only-of-type {\n",
       "        vertical-align: middle;\n",
       "    }\n",
       "\n",
       "    .dataframe tbody tr th {\n",
       "        vertical-align: top;\n",
       "    }\n",
       "\n",
       "    .dataframe thead th {\n",
       "        text-align: right;\n",
       "    }\n",
       "</style>\n",
       "<table border=\"1\" class=\"dataframe\">\n",
       "  <thead>\n",
       "    <tr style=\"text-align: right;\">\n",
       "      <th></th>\n",
       "      <th>data</th>\n",
       "      <th>rolling_avg</th>\n",
       "      <th>first_diff</th>\n",
       "      <th>second_diff</th>\n",
       "    </tr>\n",
       "    <tr>\n",
       "      <th>datetime</th>\n",
       "      <th></th>\n",
       "      <th></th>\n",
       "      <th></th>\n",
       "      <th></th>\n",
       "    </tr>\n",
       "  </thead>\n",
       "  <tbody>\n",
       "    <tr>\n",
       "      <th>2020-05-01 00:00:00</th>\n",
       "      <td>16</td>\n",
       "      <td>NaN</td>\n",
       "      <td>NaN</td>\n",
       "      <td>NaN</td>\n",
       "    </tr>\n",
       "    <tr>\n",
       "      <th>2020-05-01 01:00:00</th>\n",
       "      <td>16</td>\n",
       "      <td>NaN</td>\n",
       "      <td>0.0</td>\n",
       "      <td>NaN</td>\n",
       "    </tr>\n",
       "    <tr>\n",
       "      <th>2020-05-01 02:00:00</th>\n",
       "      <td>34</td>\n",
       "      <td>22.000000</td>\n",
       "      <td>18.0</td>\n",
       "      <td>18.0</td>\n",
       "    </tr>\n",
       "    <tr>\n",
       "      <th>2020-05-01 03:00:00</th>\n",
       "      <td>76</td>\n",
       "      <td>42.000000</td>\n",
       "      <td>42.0</td>\n",
       "      <td>24.0</td>\n",
       "    </tr>\n",
       "    <tr>\n",
       "      <th>2020-05-01 04:00:00</th>\n",
       "      <td>53</td>\n",
       "      <td>54.333333</td>\n",
       "      <td>-23.0</td>\n",
       "      <td>-65.0</td>\n",
       "    </tr>\n",
       "  </tbody>\n",
       "</table>\n",
       "</div>"
      ],
      "text/plain": [
       "                     data  rolling_avg  first_diff  second_diff\n",
       "datetime                                                       \n",
       "2020-05-01 00:00:00    16          NaN         NaN          NaN\n",
       "2020-05-01 01:00:00    16          NaN         0.0          NaN\n",
       "2020-05-01 02:00:00    34    22.000000        18.0         18.0\n",
       "2020-05-01 03:00:00    76    42.000000        42.0         24.0\n",
       "2020-05-01 04:00:00    53    54.333333       -23.0        -65.0"
      ]
     },
     "execution_count": 48,
     "metadata": {},
     "output_type": "execute_result"
    }
   ],
   "source": [
    "df['first_diff'] = df['data'].diff()\n",
    "df['second_diff'] = df['first_diff'].diff()\n",
    "df.head()"
   ]
  },
  {
   "cell_type": "markdown",
   "metadata": {},
   "source": [
    "#### Filling missing"
   ]
  },
  {
   "cell_type": "code",
   "execution_count": 49,
   "metadata": {},
   "outputs": [
    {
     "data": {
      "text/html": [
       "<div>\n",
       "<style scoped>\n",
       "    .dataframe tbody tr th:only-of-type {\n",
       "        vertical-align: middle;\n",
       "    }\n",
       "\n",
       "    .dataframe tbody tr th {\n",
       "        vertical-align: top;\n",
       "    }\n",
       "\n",
       "    .dataframe thead th {\n",
       "        text-align: right;\n",
       "    }\n",
       "</style>\n",
       "<table border=\"1\" class=\"dataframe\">\n",
       "  <thead>\n",
       "    <tr style=\"text-align: right;\">\n",
       "      <th></th>\n",
       "      <th>data</th>\n",
       "      <th>rolling_avg</th>\n",
       "      <th>first_diff</th>\n",
       "      <th>second_diff</th>\n",
       "      <th>bf_rolling_avg</th>\n",
       "    </tr>\n",
       "    <tr>\n",
       "      <th>datetime</th>\n",
       "      <th></th>\n",
       "      <th></th>\n",
       "      <th></th>\n",
       "      <th></th>\n",
       "      <th></th>\n",
       "    </tr>\n",
       "  </thead>\n",
       "  <tbody>\n",
       "    <tr>\n",
       "      <th>2020-05-01 00:00:00</th>\n",
       "      <td>16</td>\n",
       "      <td>NaN</td>\n",
       "      <td>NaN</td>\n",
       "      <td>NaN</td>\n",
       "      <td>22.000000</td>\n",
       "    </tr>\n",
       "    <tr>\n",
       "      <th>2020-05-01 01:00:00</th>\n",
       "      <td>16</td>\n",
       "      <td>NaN</td>\n",
       "      <td>0.0</td>\n",
       "      <td>NaN</td>\n",
       "      <td>22.000000</td>\n",
       "    </tr>\n",
       "    <tr>\n",
       "      <th>2020-05-01 02:00:00</th>\n",
       "      <td>34</td>\n",
       "      <td>22.000000</td>\n",
       "      <td>18.0</td>\n",
       "      <td>18.0</td>\n",
       "      <td>22.000000</td>\n",
       "    </tr>\n",
       "    <tr>\n",
       "      <th>2020-05-01 03:00:00</th>\n",
       "      <td>76</td>\n",
       "      <td>42.000000</td>\n",
       "      <td>42.0</td>\n",
       "      <td>24.0</td>\n",
       "      <td>42.000000</td>\n",
       "    </tr>\n",
       "    <tr>\n",
       "      <th>2020-05-01 04:00:00</th>\n",
       "      <td>53</td>\n",
       "      <td>54.333333</td>\n",
       "      <td>-23.0</td>\n",
       "      <td>-65.0</td>\n",
       "      <td>54.333333</td>\n",
       "    </tr>\n",
       "  </tbody>\n",
       "</table>\n",
       "</div>"
      ],
      "text/plain": [
       "                     data  rolling_avg  first_diff  second_diff  \\\n",
       "datetime                                                          \n",
       "2020-05-01 00:00:00    16          NaN         NaN          NaN   \n",
       "2020-05-01 01:00:00    16          NaN         0.0          NaN   \n",
       "2020-05-01 02:00:00    34    22.000000        18.0         18.0   \n",
       "2020-05-01 03:00:00    76    42.000000        42.0         24.0   \n",
       "2020-05-01 04:00:00    53    54.333333       -23.0        -65.0   \n",
       "\n",
       "                     bf_rolling_avg  \n",
       "datetime                             \n",
       "2020-05-01 00:00:00       22.000000  \n",
       "2020-05-01 01:00:00       22.000000  \n",
       "2020-05-01 02:00:00       22.000000  \n",
       "2020-05-01 03:00:00       42.000000  \n",
       "2020-05-01 04:00:00       54.333333  "
      ]
     },
     "execution_count": 49,
     "metadata": {},
     "output_type": "execute_result"
    }
   ],
   "source": [
    "# be aware of time traveling\n",
    "df['bf_rolling_avg'] = df['rolling_avg'].fillna(method='backfill')\n",
    "df.head()"
   ]
  },
  {
   "cell_type": "code",
   "execution_count": null,
   "metadata": {},
   "outputs": [],
   "source": []
  }
 ],
 "metadata": {
  "kernelspec": {
   "display_name": "Python 3",
   "language": "python",
   "name": "python3"
  },
  "language_info": {
   "codemirror_mode": {
    "name": "ipython",
    "version": 3
   },
   "file_extension": ".py",
   "mimetype": "text/x-python",
   "name": "python",
   "nbconvert_exporter": "python",
   "pygments_lexer": "ipython3",
   "version": "3.8.2"
  }
 },
 "nbformat": 4,
 "nbformat_minor": 4
}
